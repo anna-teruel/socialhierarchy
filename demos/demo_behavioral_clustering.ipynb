{
 "cells": [
  {
   "cell_type": "markdown",
   "id": "068e4cb4",
   "metadata": {},
   "source": [
    "## Demo Notebook: Behavior clustering"
   ]
  },
  {
   "cell_type": "code",
   "execution_count": null,
   "id": "67b9f63a",
   "metadata": {},
   "outputs": [],
   "source": [
    "import sys\n",
    "sys.path.append('/Users/annateruel/socialhierarchy/code/')\n",
    "\n",
    "from behavioral_clustering import sample_frames, load_features, run_watershed_clustering, run_umap"
   ]
  },
  {
   "cell_type": "code",
   "execution_count": null,
   "id": "e8498107",
   "metadata": {},
   "outputs": [],
   "source": [
    "sp_frames = sample_frames(directory='/Users/annateruel/Desktop/features',\n",
    "                          file_format='csv',\n",
    "                          frames_total = 10000)"
   ]
  },
  {
   "cell_type": "code",
   "execution_count": null,
   "id": "499c9b76",
   "metadata": {},
   "outputs": [],
   "source": [
    "run_umap(sp_frames)"
   ]
  }
 ],
 "metadata": {
  "kernelspec": {
   "display_name": "umap",
   "language": "python",
   "name": "python3"
  },
  "language_info": {
   "codemirror_mode": {
    "name": "ipython",
    "version": 3
   },
   "file_extension": ".py",
   "mimetype": "text/x-python",
   "name": "python",
   "nbconvert_exporter": "python",
   "pygments_lexer": "ipython3",
   "version": "3.12.4"
  }
 },
 "nbformat": 4,
 "nbformat_minor": 5
}
