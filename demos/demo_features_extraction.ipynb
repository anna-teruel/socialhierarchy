{
 "cells": [
  {
   "cell_type": "markdown",
   "id": "d7a35554",
   "metadata": {},
   "source": [
    "## Demo Notebook: Extracting behavioral features from tracking data"
   ]
  },
  {
   "cell_type": "code",
   "execution_count": 1,
   "id": "2845eae2",
   "metadata": {},
   "outputs": [],
   "source": [
    "import sys\n",
    "sys.path.append('/Users/annateruel/socialhierarchy/code/') \n",
    "\n",
    "from behavioral_features_extraction import rename_h5s, get_all_features, batch_features, interpolate_data, check_nans"
   ]
  },
  {
   "cell_type": "code",
   "execution_count": 2,
   "id": "1b11dec2",
   "metadata": {},
   "outputs": [],
   "source": [
    "bp_list = ['snout', 'leftear', 'leftleg', 'tailbase', 'rightleg', 'rightear']\n",
    "head_bp = ['snout', 'rightear', 'leftear']\n",
    "individuals = ['m1', 'm2', 'm3', 'm4']\n",
    "anterior_bp = 'snout'\n",
    "posterior_bp = 'tailbase'\n",
    "bp_angle = ['snout', 'rightear', 'leftear']"
   ]
  },
  {
   "cell_type": "markdown",
   "id": "b49e79b7",
   "metadata": {},
   "source": [
    "#### Computing feautre extraction on a single dataset"
   ]
  },
  {
   "cell_type": "code",
   "execution_count": null,
   "id": "039edd6a",
   "metadata": {},
   "outputs": [],
   "source": [
    "get_all_features(df_path= '/PATH/to/data.h5',\n",
    "                      individuals=individuals, \n",
    "                      bp_list=bp_list, \n",
    "                      anterior_bp = anterior_bp, \n",
    "                      posterior_bp = posterior_bp, \n",
    "                      bp_angle =bp_angle, \n",
    "                      save_dir='/PATH/',\n",
    "                      file_format='csv')"
   ]
  },
  {
   "cell_type": "markdown",
   "id": "7f72f3c6",
   "metadata": {},
   "source": [
    "#### Batch processing"
   ]
  },
  {
   "cell_type": "code",
   "execution_count": null,
   "id": "e350df54",
   "metadata": {},
   "outputs": [
    {
     "name": "stdout",
     "output_type": "stream",
     "text": [
      "Found 32 files to process.\n",
      "Processing file: C1_Test40_2DLC_DekrW32_hierarchyNov15shuffle1_snapshot_200_el_filtered.h5\n",
      "Percentage of NaNs in original DataFrame: 0.17%\n",
      "Percentage of NaNs after interpolation: 0.00%\n",
      "Processing file: C1_Test61_2DLC_DekrW32_hierarchyNov15shuffle1_snapshot_200_el_filtered.h5\n",
      "Percentage of NaNs in original DataFrame: 0.15%\n",
      "Percentage of NaNs after interpolation: 0.00%\n",
      "Processing file: C1_Test15_pDLC_DekrW32_hierarchyNov15shuffle1_snapshot_200_el_filtered.h5\n",
      "Percentage of NaNs in original DataFrame: 0.13%\n",
      "Percentage of NaNs after interpolation: 0.00%\n",
      "Processing file: C1_Test5_pDLC_DekrW32_hierarchyNov15shuffle1_snapshot_200_el_filtered.h5\n",
      "Percentage of NaNs in original DataFrame: 0.23%\n",
      "Percentage of NaNs after interpolation: 0.00%\n",
      "Processing file: C1_Test123_2DLC_DekrW32_hierarchyNov15shuffle1_snapshot_200_el_filtered.h5\n",
      "Percentage of NaNs in original DataFrame: 0.51%\n",
      "Percentage of NaNs after interpolation: 0.00%\n",
      "Processing file: C1_Test104_2DLC_DekrW32_hierarchyNov15shuffle1_snapshot_200_el_filtered.h5\n",
      "Percentage of NaNs in original DataFrame: 0.14%\n",
      "Percentage of NaNs after interpolation: 0.00%\n",
      "Processing file: C1_Test3_pDLC_DekrW32_hierarchyNov15shuffle1_snapshot_200_el_filtered.h5\n",
      "Percentage of NaNs in original DataFrame: 0.71%\n",
      "Percentage of NaNs after interpolation: 0.00%\n",
      "Processing file: C1_Test107_2DLC_DekrW32_hierarchyNov15shuffle1_snapshot_200_el_filtered.h5\n",
      "Percentage of NaNs in original DataFrame: 1.29%\n",
      "Percentage of NaNs after interpolation: 0.00%\n",
      "Processing file: C1_Test49_2DLC_DekrW32_hierarchyNov15shuffle1_snapshot_200_el_filtered.h5\n",
      "Percentage of NaNs in original DataFrame: 0.21%\n",
      "Percentage of NaNs after interpolation: 0.00%\n",
      "Processing file: C1_Test119_2DLC_DekrW32_hierarchyNov15shuffle1_snapshot_200_el_filtered.h5\n",
      "Percentage of NaNs in original DataFrame: 0.11%\n",
      "Percentage of NaNs after interpolation: 0.00%\n",
      "Processing file: C1_Test57_2DLC_DekrW32_hierarchyNov15shuffle1_snapshot_200_el_filtered.h5\n",
      "Percentage of NaNs in original DataFrame: 0.02%\n",
      "Percentage of NaNs after interpolation: 0.00%\n",
      "Processing file: C1_Test23_pDLC_DekrW32_hierarchyNov15shuffle1_snapshot_200_el_filtered.h5\n",
      "Percentage of NaNs in original DataFrame: 0.31%\n",
      "Percentage of NaNs after interpolation: 0.00%\n",
      "Processing file: C1_Test85_2DLC_DekrW32_hierarchyNov15shuffle1_snapshot_200_el_filtered.h5\n",
      "Percentage of NaNs in original DataFrame: 0.02%\n",
      "Percentage of NaNs after interpolation: 0.00%\n",
      "Processing file: C1_Test73_2DLC_DekrW32_hierarchyNov15shuffle1_snapshot_200_el_filtered.h5\n",
      "Percentage of NaNs in original DataFrame: 0.06%\n",
      "Percentage of NaNs after interpolation: 0.00%\n",
      "Processing file: C1_Test115_2DLC_DekrW32_hierarchyNov15shuffle1_snapshot_200_el_filtered.h5\n",
      "Percentage of NaNs in original DataFrame: 0.03%\n",
      "Percentage of NaNs after interpolation: 0.00%\n",
      "Processing file: C1_Test89_2DLC_DekrW32_hierarchyNov15shuffle1_snapshot_200_el_filtered.h5\n",
      "Percentage of NaNs in original DataFrame: 0.03%\n",
      "Percentage of NaNs after interpolation: 0.00%\n",
      "Processing file: C1_Test36_2DLC_DekrW32_hierarchyNov15shuffle1_snapshot_200_el_filtered.h5\n",
      "Percentage of NaNs in original DataFrame: 0.00%\n",
      "Percentage of NaNs after interpolation: 0.00%\n",
      "Processing file: C1_Test65_2DLC_DekrW32_hierarchyNov15shuffle1_snapshot_200_el_filtered.h5\n",
      "Percentage of NaNs in original DataFrame: 0.15%\n",
      "Percentage of NaNs after interpolation: 0.00%\n",
      "Processing file: C1_Test1DLC_DekrW32_hierarchyNov15shuffle1_snapshot_200_el_filtered.h5\n",
      "Percentage of NaNs in original DataFrame: 0.24%\n",
      "Percentage of NaNs after interpolation: 0.00%\n",
      "Processing file: C1_Test96_2DLC_DekrW32_hierarchyNov15shuffle1_snapshot_200_el_filtered.h5\n",
      "Percentage of NaNs in original DataFrame: 0.26%\n",
      "Percentage of NaNs after interpolation: 0.00%\n",
      "Processing file: C1_Test44_2DLC_DekrW32_hierarchyNov15shuffle1_snapshot_200_el_filtered.h5\n",
      "Percentage of NaNs in original DataFrame: 0.19%\n",
      "Percentage of NaNs after interpolation: 0.00%\n",
      "Processing file: C1_Test8_pDLC_DekrW32_hierarchyNov15shuffle1_snapshot_200_el_filtered.h5\n",
      "Percentage of NaNs in original DataFrame: 0.34%\n",
      "Percentage of NaNs after interpolation: 0.00%\n",
      "Processing file: C1_Test93_2DLC_DekrW32_hierarchyNov15shuffle1_snapshot_200_el_filtered.h5\n",
      "Percentage of NaNs in original DataFrame: 0.20%\n",
      "Percentage of NaNs after interpolation: 0.00%\n",
      "Processing file: C1_Test69_2DLC_DekrW32_hierarchyNov15shuffle1_snapshot_200_el_filtered.h5\n",
      "Percentage of NaNs in original DataFrame: 0.09%\n",
      "Percentage of NaNs after interpolation: 0.00%\n",
      "Processing file: C1_Test4_pDLC_DekrW32_hierarchyNov15shuffle1_snapshot_200_el_filtered.h5\n",
      "Percentage of NaNs in original DataFrame: 0.61%\n",
      "Percentage of NaNs after interpolation: 0.00%\n",
      "Processing file: C1_Test100_2DLC_DekrW32_hierarchyNov15shuffle1_snapshot_200_el_filtered.h5\n",
      "Percentage of NaNs in original DataFrame: 0.07%\n",
      "Percentage of NaNs after interpolation: 0.00%\n",
      "Processing file: C1_Test81_2DLC_DekrW32_hierarchyNov15shuffle1_snapshot_200_el_filtered.h5\n",
      "Percentage of NaNs in original DataFrame: 0.16%\n",
      "Percentage of NaNs after interpolation: 0.00%\n",
      "Processing file: C1_Test53_2DLC_DekrW32_hierarchyNov15shuffle1_snapshot_200_el_filtered.h5\n",
      "Percentage of NaNs in original DataFrame: 0.17%\n",
      "Percentage of NaNs after interpolation: 0.00%\n",
      "Processing file: C1_Test77_2DLC_DekrW32_hierarchyNov15shuffle1_snapshot_200_el_filtered.h5\n",
      "Percentage of NaNs in original DataFrame: 0.16%\n",
      "Percentage of NaNs after interpolation: 0.00%\n",
      "Processing file: C1_Test111_2DLC_DekrW32_hierarchyNov15shuffle1_snapshot_200_el_filtered.h5\n",
      "Percentage of NaNs in original DataFrame: 0.31%\n",
      "Percentage of NaNs after interpolation: 0.00%\n",
      "Processing file: C1_Test28_pDLC_DekrW32_hierarchyNov15shuffle1_snapshot_200_el_filtered.h5\n",
      "Percentage of NaNs in original DataFrame: 0.55%\n",
      "Percentage of NaNs after interpolation: 0.00%\n",
      "Processing file: C1_Test32_2DLC_DekrW32_hierarchyNov15shuffle1_snapshot_200_el_filtered.h5\n",
      "Percentage of NaNs in original DataFrame: 0.26%\n",
      "Percentage of NaNs after interpolation: 0.00%\n"
     ]
    }
   ],
   "source": [
    "batch_features(input_dir = '/Users/annateruel/Desktop/c1/',\n",
    "                      individuals = individuals, \n",
    "                      bp_list = bp_list, \n",
    "                      head_bp = head_bp,\n",
    "                      anterior_bp = anterior_bp, \n",
    "                      posterior_bp = posterior_bp, \n",
    "                      bp_angle =bp_angle, \n",
    "                      save_dir='/Users/annateruel/Desktop/features/',\n",
    "                      file_format='h5', \n",
    "                      out_format = 'csv')"
   ]
  }
 ],
 "metadata": {
  "kernelspec": {
   "display_name": "dlc_analysis",
   "language": "python",
   "name": "python3"
  },
  "language_info": {
   "codemirror_mode": {
    "name": "ipython",
    "version": 3
   },
   "file_extension": ".py",
   "mimetype": "text/x-python",
   "name": "python",
   "nbconvert_exporter": "python",
   "pygments_lexer": "ipython3",
   "version": "3.10.9"
  }
 },
 "nbformat": 4,
 "nbformat_minor": 5
}
