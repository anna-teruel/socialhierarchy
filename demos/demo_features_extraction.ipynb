{
 "cells": [
  {
   "cell_type": "markdown",
   "id": "d7a35554",
   "metadata": {},
   "source": [
    "## Demo Notebook: Extracting behavioral features from tracking data"
   ]
  },
  {
   "cell_type": "code",
   "execution_count": 1,
   "id": "2845eae2",
   "metadata": {},
   "outputs": [],
   "source": [
    "import sys\n",
    "sys.path.append('/Users/annateruel/socialhierarchy/code/')\n",
    "\n",
    "from behavioral_features_extraction import compute_full_features, batch_compute_features, interpolate_data, check_nans"
   ]
  },
  {
   "cell_type": "code",
   "execution_count": null,
   "id": "1b11dec2",
   "metadata": {},
   "outputs": [],
   "source": [
    "bp_list = ['snout', 'leftear', 'leftleg', 'tailbase', 'rightleg', 'rightear']\n",
    "individuals = ['m1', 'm2', 'm3', 'm4']\n",
    "anterior_bp = 'snout'\n",
    "posterior_bp = 'tailbase'\n",
    "bp_angle = ['snout', 'rightear', 'leftear']"
   ]
  },
  {
   "cell_type": "markdown",
   "id": "b49e79b7",
   "metadata": {},
   "source": [
    "#### Computing feautre extraction on a single dataset"
   ]
  },
  {
   "cell_type": "code",
   "execution_count": null,
   "id": "039edd6a",
   "metadata": {},
   "outputs": [],
   "source": [
    "compute_full_features(df_path= '/PATH/C1_Test1DLC_DekrW32_hierarchyNov15shuffle1_snapshot_200_el_filtered.h5',\n",
    "                      individuals=individuals, \n",
    "                      bp_list=bp_list, \n",
    "                      anterior_bp = anterior_bp, \n",
    "                      posterior_bp = posterior_bp, \n",
    "                      bp_angle =bp_angle, \n",
    "                      save_dir='/Users/annateruel/Desktop/',\n",
    "                      file_format='csv')"
   ]
  },
  {
   "cell_type": "markdown",
   "id": "7f72f3c6",
   "metadata": {},
   "source": [
    "#### Batch processing"
   ]
  },
  {
   "cell_type": "code",
   "execution_count": null,
   "id": "e350df54",
   "metadata": {},
   "outputs": [],
   "source": [
    "batch_compute_features(input_dir = 'PATH',\n",
    "                      individuals = individuals, \n",
    "                      bp_list = bp_list, \n",
    "                      anterior_bp = anterior_bp, \n",
    "                      posterior_bp = posterior_bp, \n",
    "                      bp_angle =bp_angle, \n",
    "                      save_dir='/PATH/features',\n",
    "                      file_format='csv')"
   ]
  }
 ],
 "metadata": {
  "kernelspec": {
   "display_name": "dlc_analysis",
   "language": "python",
   "name": "python3"
  },
  "language_info": {
   "codemirror_mode": {
    "name": "ipython",
    "version": 3
   },
   "file_extension": ".py",
   "mimetype": "text/x-python",
   "name": "python",
   "nbconvert_exporter": "python",
   "pygments_lexer": "ipython3",
   "version": "3.10.9"
  }
 },
 "nbformat": 4,
 "nbformat_minor": 5
}
