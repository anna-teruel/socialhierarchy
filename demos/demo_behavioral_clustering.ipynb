{
 "cells": [
  {
   "cell_type": "markdown",
   "id": "068e4cb4",
   "metadata": {},
   "source": [
    "## Demo Notebook: Behavior clustering"
   ]
  },
  {
   "cell_type": "code",
   "execution_count": null,
   "id": "67b9f63a",
   "metadata": {},
   "outputs": [],
   "source": [
    "import sys\n",
    "sys.path.append('/Users/annateruel/socialhierarchy/code/')\n",
    "from behavioral_clustering import load_features, sample_frames, run_umap, train_embedding_model, plot_umap_embedding, map_density, map_feature_by_cluster\n",
    "import pandas as pd"
   ]
  },
  {
   "cell_type": "code",
   "execution_count": null,
   "id": "e8498107",
   "metadata": {},
   "outputs": [],
   "source": [
    "sp_frames = sample_frames(directory='/Users/annateruel/Desktop/features',\n",
    "                          file_format='csv',\n",
    "                          frames_total = 10000\n",
    ")"
   ]
  },
  {
   "cell_type": "code",
   "execution_count": null,
   "id": "499c9b76",
   "metadata": {},
   "outputs": [],
   "source": [
    "embedding = run_umap(sp_frames, min_dist=0.5)"
   ]
  },
  {
   "cell_type": "code",
   "execution_count": null,
   "id": "e393d877",
   "metadata": {},
   "outputs": [],
   "source": [
    "train_embedding_model(embedding, sp_frames, save_model=True,\n",
    "                      save_path='/Users/annateruel/Desktop/embedding_model.h5')"
   ]
  },
  {
   "cell_type": "code",
   "execution_count": null,
   "id": "3112da98",
   "metadata": {},
   "outputs": [],
   "source": [
    "plot_umap_embedding(embedding, save=True, save_dir= '/Users/annateruel/Desktop', format='png')"
   ]
  },
  {
   "cell_type": "code",
   "execution_count": null,
   "id": "6e7ae8e1",
   "metadata": {},
   "outputs": [],
   "source": [
    "map_density(embedding, \n",
    "            sigma= 4, \n",
    "            percentile=40, \n",
    "            cmap='OrRd', \n",
    "            save=True, \n",
    "            save_dir='/Users/annateruel/Desktop', \n",
    "            format='svg')"
   ]
  },
  {
   "cell_type": "code",
   "execution_count": null,
   "id": "a9147284",
   "metadata": {},
   "outputs": [],
   "source": [
    "labeled_map, density_map, xe, ye = map_density(\n",
    "    embedding,\n",
    "    sigma=4,\n",
    "    percentile=40,\n",
    "    plot=False  # Set to False to avoid saving the density map\n",
    ")\n",
    "features = load_features(directory='/Users/annateruel/Desktop/features',\n",
    "                        file_format='csv')\n",
    "features_all = pd.concat(list(features.values()), ignore_index=False)\n",
    "variable = features_all['avg_centroid_distance'].values\n",
    "map_feature_by_cluster(\n",
    "    embedding=embedding,\n",
    "    variable=variable,\n",
    "    labeled_map=labeled_map,\n",
    "    xe=xe,\n",
    "    ye=ye,\n",
    "    cmap='plasma',\n",
    "    save=True,\n",
    "    save_dir='/Users/annateruel/Desktop',\n",
    "    format='svg'\n",
    ")"
   ]
  },
  {
   "cell_type": "markdown",
   "id": "ac87624a",
   "metadata": {},
   "source": [
    "##### TESTING CODE\n"
   ]
  },
  {
   "cell_type": "code",
   "execution_count": null,
   "id": "8e5f4163",
   "metadata": {},
   "outputs": [],
   "source": [
    "def hierarchical_clustering(embedding, labeled_map, xe, ye, method='ward', plot=True):\n",
    "    \"\"\"\n",
    "    Perform hierarchical clustering on behavior clusters and optionally plot a dendrogram.\n",
    "\n",
    "    Args:\n",
    "        embedding (np.ndarray): UMAP 2D embedding (n_frames x 2).\n",
    "        labeled_map (np.ndarray): Watershed cluster map from density-based clustering.\n",
    "        xe (np.ndarray): x-axis bin edges from histogram2d.\n",
    "        ye (np.ndarray): y-axis bin edges from histogram2d.\n",
    "        method (str): Linkage method for hierarchical clustering (default 'ward').\n",
    "        plot (bool): Whether to plot the dendrogram.\n",
    "\n",
    "    Returns:\n",
    "        Z (np.ndarray): The linkage matrix used to construct the dendrogram.\n",
    "    \"\"\"\n",
    "    x_idx = np.digitize(embedding[:, 0], xe) - 1\n",
    "    y_idx = np.digitize(embedding[:, 1], ye) - 1\n",
    "\n",
    "    valid = (\n",
    "        (x_idx >= 0) & (x_idx < labeled_map.shape[0]) &\n",
    "        (y_idx >= 0) & (y_idx < labeled_map.shape[1])\n",
    "    )\n",
    "    x_idx = x_idx[valid]\n",
    "    y_idx = y_idx[valid]\n",
    "    embedding_valid = embedding[valid]\n",
    "\n",
    "    cluster_labels = labeled_map[x_idx, y_idx]\n",
    "\n",
    "    valid_points = ~np.isnan(cluster_labels) & (cluster_labels > 0)\n",
    "    labels = cluster_labels[valid_points].astype(int)\n",
    "    embedding_valid = embedding_valid[valid_points]\n",
    "    unique_labels = np.unique(labels)\n",
    "    centroids = np.array([\n",
    "        embedding_valid[labels == lbl].mean(axis=0)\n",
    "        for lbl in unique_labels\n",
    "    ])\n",
    "\n",
    "    Z = linkage(centroids, method=method)\n",
    "\n",
    "    if plot:\n",
    "        plt.figure(figsize=(20, 15))\n",
    "        dendrogram(Z, labels=unique_labels)\n",
    "        plt.title(\"Hierarchical Clustering of Behavioral Clusters\")\n",
    "        plt.xlabel(\"Cluster\")\n",
    "        plt.ylabel(\"Distance\")\n",
    "        plt.tight_layout()\n",
    "        plt.show()\n",
    "\n",
    "    return Z,  cluster_labels"
   ]
  },
  {
   "cell_type": "code",
   "execution_count": null,
   "id": "50297ff9",
   "metadata": {},
   "outputs": [],
   "source": [
    "\n",
    "import numpy as np\n",
    "import matplotlib.pyplot as plt\n",
    "import seaborn as sns\n",
    "from scipy.cluster.hierarchy import linkage, dendrogram, leaves_list\n",
    "from scipy.stats import binom_test\n",
    "from matplotlib import gridspec\n",
    "\n",
    "def compute_transition_matrix(cluster_labels, n_clusters):\n",
    "    cluster_labels = cluster_labels.astype(int)\n",
    "    transition_matrix = np.zeros((n_clusters, n_clusters))\n",
    "\n",
    "    for (i, j) in zip(cluster_labels[:-1], cluster_labels[1:]):\n",
    "        if i > 0 and j > 0:\n",
    "            transition_matrix[i - 1, j - 1] += 1\n",
    "\n",
    "    row_sums = transition_matrix.sum(axis=1, keepdims=True)\n",
    "    transition_matrix = np.divide(\n",
    "        transition_matrix,\n",
    "        row_sums,\n",
    "        where=row_sums != 0\n",
    "    )\n",
    "    return transition_matrix\n",
    "\n",
    "def plot_transition_matrix_with_dendrogram(cluster_labels, n_clusters, method='ward', annotate_significance=True, alpha=0.05):\n",
    "    T = compute_transition_matrix(cluster_labels, n_clusters)\n",
    "\n",
    "    # Hierarchical clustering on rows\n",
    "    linkage_matrix = linkage(T, method=method)\n",
    "    order = leaves_list(linkage_matrix)\n",
    "    T_sorted = T[order, :][:, order]\n",
    "\n",
    "    # Bootstrap significance test\n",
    "    if annotate_significance:\n",
    "        n_per_row = np.sum(T * (T > 0), axis=1, keepdims=True)\n",
    "        p_values = np.ones_like(T)\n",
    "        for i in range(n_clusters):\n",
    "            for j in range(n_clusters):\n",
    "                count = T[i, j] * n_per_row[i]\n",
    "                if n_per_row[i] > 0:\n",
    "                    p_values[i, j] = binom_test(count, n_per_row[i], 1/n_clusters, alternative='greater')\n",
    "        sig_mask = p_values < alpha\n",
    "        T_display = np.where(sig_mask, T_sorted, np.nan)\n",
    "    else:\n",
    "        T_display = T_sorted\n",
    "\n",
    "    # Layout with dendrogram\n",
    "    fig = plt.figure(figsize=(12, 10))\n",
    "    gs = gridspec.GridSpec(1, 2, width_ratios=[1, 5], wspace=0.05)\n",
    "\n",
    "    # Dendrogram\n",
    "    ax_dendro = plt.subplot(gs[0])\n",
    "    dendrogram(linkage_matrix, orientation='left', labels=None, no_labels=True, ax=ax_dendro, color_threshold=0)\n",
    "    ax_dendro.invert_yaxis()\n",
    "    ax_dendro.axis('off')\n",
    "\n",
    "    # Heatmap\n",
    "    ax = plt.subplot(gs[1])\n",
    "    sns.heatmap(\n",
    "        T_display,\n",
    "        cmap='OrRd',\n",
    "        xticklabels=order + 1,\n",
    "        yticklabels=order + 1,\n",
    "        cbar_kws={\"label\": \"P(start → exit)\"},\n",
    "        square=True,\n",
    "        annot=False,\n",
    "        ax=ax,\n",
    "        mask=np.isnan(T_display)\n",
    "    )\n",
    "\n",
    "    # Add significance markers\n",
    "    if annotate_significance:\n",
    "        for i in range(n_clusters):\n",
    "            for j in range(n_clusters):\n",
    "                if sig_mask[order[i], order[j]]:\n",
    "                    ax.text(j + 0.5, i + 0.5, '*', color='white', ha='center', va='center', fontsize=10)\n",
    "\n",
    "    ax.set_title(\"Behavioral Transition Structure\")\n",
    "    ax.set_xlabel(\"exit behavior\")\n",
    "    ax.set_ylabel(\"start behavior\")\n",
    "    plt.tight_layout()\n",
    "    plt.show()\n",
    "\n",
    "    return T, order, linkage_matrix"
   ]
  },
  {
   "cell_type": "code",
   "execution_count": null,
   "id": "72d7bf0a",
   "metadata": {},
   "outputs": [],
   "source": [
    "labeled_map, density_map, xe, ye = map_density(\n",
    "    embedding, bins=200, sigma=3.5, percentile=30, plot=False\n",
    ")"
   ]
  },
  {
   "cell_type": "code",
   "execution_count": null,
   "id": "a53d83c5",
   "metadata": {},
   "outputs": [],
   "source": [
    "def clean_cluster_labels(cluster_labels):\n",
    "    \"\"\"\n",
    "    Clean cluster labels by removing NaNs and background (label ≤ 0),\n",
    "    and converting to integer array for valid points only.\n",
    "    \"\"\"\n",
    "    mask = ~np.isnan(cluster_labels) & (cluster_labels > 0)\n",
    "    return cluster_labels[mask].astype(int)"
   ]
  },
  {
   "cell_type": "code",
   "execution_count": null,
   "id": "881426f0",
   "metadata": {},
   "outputs": [],
   "source": [
    "Z, cluster_labels = hierarchical_clustering(embedding, labeled_map, xe, ye)\n",
    "clean_labels = clean_cluster_labels(cluster_labels)\n",
    "\n",
    "# Use max based on clean labels, not the original\n",
    "n_clusters = clean_labels.max()\n",
    "\n",
    "T, order, Z = plot_transition_matrix_with_dendrogram(clean_labels, n_clusters=n_clusters)"
   ]
  }
 ],
 "metadata": {
  "kernelspec": {
   "display_name": "umap",
   "language": "python",
   "name": "python3"
  },
  "language_info": {
   "codemirror_mode": {
    "name": "ipython",
    "version": 3
   },
   "file_extension": ".py",
   "mimetype": "text/x-python",
   "name": "python",
   "nbconvert_exporter": "python",
   "pygments_lexer": "ipython3",
   "version": "3.12.4"
  }
 },
 "nbformat": 4,
 "nbformat_minor": 5
}
