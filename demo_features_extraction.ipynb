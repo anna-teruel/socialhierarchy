{
 "cells": [
  {
   "cell_type": "code",
   "execution_count": 1,
   "id": "2845eae2",
   "metadata": {},
   "outputs": [],
   "source": [
    "from behavioral_features_extraction import compute_full_features"
   ]
  },
  {
   "cell_type": "code",
   "execution_count": 2,
   "id": "1b11dec2",
   "metadata": {},
   "outputs": [],
   "source": [
    "df_path = '/Users/annateruel/Desktop/C1_Test1DLC_DekrW32_hierarchyNov15shuffle1_snapshot_200_el_filtered.h5'\n",
    "bp_list = ['snout', 'leftear', 'leftleg', 'tailbase', 'rightleg', 'rightear']\n",
    "individuals = ['m1', 'm2', 'm3', 'm4']\n",
    "anterior_bp = 'snout'\n",
    "posterior_bp = 'tailbase'\n",
    "bp_angle = ['snout', 'rightear', 'leftear']"
   ]
  },
  {
   "cell_type": "code",
   "execution_count": 3,
   "id": "039edd6a",
   "metadata": {},
   "outputs": [],
   "source": [
    "compute_full_features(df_path=df_path,\n",
    "                      individuals=individuals, \n",
    "                      bp_list=bp_list, \n",
    "                      anterior_bp = anterior_bp, \n",
    "                      posterior_bp = posterior_bp, \n",
    "                      bp_angle =bp_angle, \n",
    "                      save_dir='/Users/annateruel/Desktop/',\n",
    "                      file_format='csv')"
   ]
  }
 ],
 "metadata": {
  "kernelspec": {
   "display_name": "dlc_analysis",
   "language": "python",
   "name": "python3"
  },
  "language_info": {
   "codemirror_mode": {
    "name": "ipython",
    "version": 3
   },
   "file_extension": ".py",
   "mimetype": "text/x-python",
   "name": "python",
   "nbconvert_exporter": "python",
   "pygments_lexer": "ipython3",
   "version": "3.10.9"
  }
 },
 "nbformat": 4,
 "nbformat_minor": 5
}
